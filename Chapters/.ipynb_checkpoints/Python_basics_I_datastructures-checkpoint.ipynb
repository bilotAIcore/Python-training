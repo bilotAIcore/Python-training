{
 "cells": [
  {
   "cell_type": "markdown",
   "metadata": {},
   "source": [
    "<img src=\"py-logo.png\" width=\"100pt\"/>"
   ]
  },
  {
   "cell_type": "markdown",
   "metadata": {},
   "source": [
    "\n",
    "\n",
    "# INTRODUCTION TO PYTHON \n",
    "# I – DATA STRUCTURES\n",
    "*Lasse Ruokolainen*\n",
    "\n",
    "*Seasoned Data Master, BILOT Consulting Oy* \n",
    "\n",
    "***\n",
    "\n",
    "## (1) Data types\n",
    "In Python there are several types of data entries that are treated differently. These **types** include: **int**, **float**, **string**, and **boolean**. Numeric types **int** and **float** can be subjected to any mathematical operation, whereas textual operations are used with **string** types. Boolean types are convenient in control structures as well in filtering/indexing variables data/tables. The type of an **object** can be queried with the **function** `type()`.\n",
    "\n",
    "### (a) *Numeric*\n",
    "Numeric objects are either integers or decimal numbers."
   ]
  },
  {
   "cell_type": "code",
   "execution_count": null,
   "metadata": {},
   "outputs": [],
   "source": [
    "# assign a value to an object:\n",
    "a = 6\n",
    "# query the type of a and print it to the console:\n",
    "print(type(a))"
   ]
  },
  {
   "cell_type": "code",
   "execution_count": null,
   "metadata": {},
   "outputs": [],
   "source": [
    "b = 2.3\n",
    "print(type(b))"
   ]
  },
  {
   "cell_type": "code",
   "execution_count": null,
   "metadata": {},
   "outputs": [],
   "source": [
    "print(a + b)"
   ]
  },
  {
   "cell_type": "code",
   "execution_count": null,
   "metadata": {},
   "outputs": [],
   "source": [
    "# assign the result from an operation to an object:\n",
    "c = a * b - b/a\n",
    "# controlled printing:\n",
    "print('%.2f' %c)\n",
    "# or:\n",
    "print('Result: {0:.2f}'.format(c))"
   ]
  },
  {
   "cell_type": "markdown",
   "metadata": {},
   "source": [
    "### (b) *String*\n",
    "String objects can be either single words or longer sentences."
   ]
  },
  {
   "cell_type": "code",
   "execution_count": null,
   "metadata": {},
   "outputs": [],
   "source": [
    "animal = 'cat'\n",
    "print(type(animal))"
   ]
  },
  {
   "cell_type": "code",
   "execution_count": null,
   "metadata": {},
   "outputs": [],
   "source": [
    "print(animal.capitalize())"
   ]
  },
  {
   "cell_type": "code",
   "execution_count": null,
   "metadata": {},
   "outputs": [],
   "source": [
    "# number of characters:\n",
    "print(len(animal))"
   ]
  },
  {
   "cell_type": "code",
   "execution_count": null,
   "metadata": {},
   "outputs": [],
   "source": [
    "# concatenate strings:\n",
    "fact = animal.capitalize() + ' is a feline'\n",
    "print(fact)"
   ]
  },
  {
   "cell_type": "code",
   "execution_count": null,
   "metadata": {},
   "outputs": [],
   "source": [
    "opinion = 'I hate ' + animal.upper() + 'S!'\n",
    "print(opinion)"
   ]
  },
  {
   "cell_type": "code",
   "execution_count": null,
   "metadata": {},
   "outputs": [],
   "source": [
    "# repeat a string:\n",
    "print(animal * 3)"
   ]
  },
  {
   "cell_type": "code",
   "execution_count": null,
   "metadata": {},
   "outputs": [],
   "source": [
    "# find the position of a character/pattern:\n",
    "print(opinion.index('e'))"
   ]
  },
  {
   "cell_type": "code",
   "execution_count": null,
   "metadata": {},
   "outputs": [],
   "source": [
    "# replace a part of a string:\n",
    "print(opinion.replace('hate','love').replace('I','You'))"
   ]
  },
  {
   "cell_type": "code",
   "execution_count": null,
   "metadata": {},
   "outputs": [],
   "source": [
    "# join strings:\n",
    "animals = ['cat', 'dog', 'horse', 'python']\n",
    "\n",
    "', '.join(animals)"
   ]
  },
  {
   "cell_type": "code",
   "execution_count": null,
   "metadata": {},
   "outputs": [],
   "source": [
    "# list the content of the current workspace:\n",
    "%who"
   ]
  },
  {
   "cell_type": "markdown",
   "metadata": {},
   "source": [
    "### (c) *Boolean*\n",
    "Boolean objects contain values `True` or `False`, which can be interpretted as numeric 1/0."
   ]
  },
  {
   "cell_type": "code",
   "execution_count": null,
   "metadata": {},
   "outputs": [],
   "source": [
    "# logical test:\n",
    "test = a > b\n",
    "print(test)"
   ]
  },
  {
   "cell_type": "code",
   "execution_count": null,
   "metadata": {},
   "outputs": [],
   "source": [
    "print(type(test))"
   ]
  },
  {
   "cell_type": "code",
   "execution_count": null,
   "metadata": {},
   "outputs": [],
   "source": [
    "# logical matching:\n",
    "print('cat' in fact)"
   ]
  },
  {
   "cell_type": "code",
   "execution_count": null,
   "metadata": {},
   "outputs": [],
   "source": [
    "print(animal is 'cat')"
   ]
  },
  {
   "cell_type": "markdown",
   "metadata": {},
   "source": [
    "***\n",
    "## (2) Data structures\n",
    "Python contains a rich set of different data structures that are convenient for different purposes. \n",
    "\n",
    "### (a) *List*\n",
    "Lists in Python are used to store collection of heterogeneous items. Lists are generated using square brackets (`[` and `]`) that hold elements, separated by a comma (`,`). That is, a **list** is a collection of entries that can be of any **type**. Lists can also be nested, meaning that a list can contain a list (or any other data structure). Lists can be either appended or reduced with convenient methods `.append()` and `.remove()` (note that these operations modify the list without the need to redefine the object). To make an empty list, type: []."
   ]
  },
  {
   "cell_type": "code",
   "execution_count": null,
   "metadata": {},
   "outputs": [],
   "source": [
    "# generate a list with heterogeneous items:\n",
    "x = [1,'a',1,2,'a','b',4,'b']\n",
    "print(x)"
   ]
  },
  {
   "cell_type": "code",
   "execution_count": null,
   "metadata": {},
   "outputs": [],
   "source": [
    "print(type(x))"
   ]
  },
  {
   "cell_type": "code",
   "execution_count": null,
   "metadata": {},
   "outputs": [],
   "source": [
    "# count number of instances:\n",
    "print(x.count('b'))"
   ]
  },
  {
   "cell_type": "code",
   "execution_count": null,
   "metadata": {},
   "outputs": [],
   "source": [
    "# concatenate two lists:\n",
    "print(x + [3,'c'])"
   ]
  },
  {
   "cell_type": "code",
   "execution_count": null,
   "metadata": {},
   "outputs": [],
   "source": [
    "# query the length of a list:\n",
    "print(len(x))"
   ]
  },
  {
   "cell_type": "code",
   "execution_count": null,
   "metadata": {},
   "outputs": [],
   "source": [
    "# make a nested list:\n",
    "y = [[1,2,3,4], ['a','b','c','d']]\n",
    "print(y)"
   ]
  },
  {
   "cell_type": "code",
   "execution_count": null,
   "metadata": {},
   "outputs": [],
   "source": [
    "print(len(y))"
   ]
  },
  {
   "cell_type": "code",
   "execution_count": null,
   "metadata": {},
   "outputs": [],
   "source": [
    "# append a list:\n",
    "x.append(4.75)\n",
    "print(x)"
   ]
  },
  {
   "cell_type": "code",
   "execution_count": null,
   "metadata": {},
   "outputs": [],
   "source": [
    "# remove elements of a list:\n",
    "x.remove(4.75)\n",
    "print(x)"
   ]
  },
  {
   "cell_type": "code",
   "execution_count": null,
   "metadata": {},
   "outputs": [],
   "source": [
    "# extend a list:\n",
    "x.extend([0,5,1,'stop'])\n",
    "print(x)"
   ]
  },
  {
   "cell_type": "markdown",
   "metadata": {},
   "source": [
    "What is the difference between `.append` and `.extend`? The former will add what ever is the input as a new element in the list, while the latter will extent the list with the input:"
   ]
  },
  {
   "cell_type": "markdown",
   "metadata": {},
   "source": [
    "`x = [1,2,3]` \n",
    "\n",
    "`x.append([4, 5, 6]) -> [1,2,3,[4,5,6]]`  \n",
    "\n",
    "`x.extend([4, 5, 6]) -> [1,2,3,4,5,6]`"
   ]
  },
  {
   "cell_type": "markdown",
   "metadata": {},
   "source": [
    "### (b) *Numpy array*\n",
    "Lists cannot used in calculations, as they are allowed to contain any type data. NumPy arrays are like lists, but can be used in calculations, because they can only contain a single type of values. To use Numpy arrays one needs to import the `numpy` package. This is done using the `import` command: `import numpy`. This will load the library to the working memory, with name `numpy`. It is however a convention to import `numpy` as `np`, but you are free to do this anyway you like."
   ]
  },
  {
   "cell_type": "code",
   "execution_count": null,
   "metadata": {},
   "outputs": [],
   "source": [
    "# import numpy:\n",
    "import numpy as np"
   ]
  },
  {
   "cell_type": "code",
   "execution_count": null,
   "metadata": {},
   "outputs": [],
   "source": [
    "# generate a numeric array:\n",
    "nar = np.array(range(0,5))\n",
    "print(nar)\n",
    "print(type(nar))"
   ]
  },
  {
   "cell_type": "code",
   "execution_count": null,
   "metadata": {},
   "outputs": [],
   "source": [
    "# calculate sum over the array:\n",
    "print(sum(nar))"
   ]
  },
  {
   "cell_type": "code",
   "execution_count": null,
   "metadata": {},
   "outputs": [],
   "source": [
    "# mathematical operation on array:\n",
    "print(nar/2)"
   ]
  },
  {
   "cell_type": "code",
   "execution_count": null,
   "metadata": {},
   "outputs": [],
   "source": [
    "# bind arrays together:\n",
    "matrix = np.column_stack((nar,nar))\n",
    "print(matrix)"
   ]
  },
  {
   "cell_type": "code",
   "execution_count": null,
   "metadata": {
    "scrolled": true
   },
   "outputs": [],
   "source": [
    "# query the shape of an array (note: this returns a tuple):\n",
    "print(matrix.shape)"
   ]
  },
  {
   "cell_type": "markdown",
   "metadata": {},
   "source": [
    "Even if **arrays** can contain only a singly data type, it does not mean it needs to be numeric; string arrays and boolean arrays are also possible.  "
   ]
  },
  {
   "cell_type": "code",
   "execution_count": null,
   "metadata": {},
   "outputs": [],
   "source": [
    "# generate string array:\n",
    "sar = np.array(['anaconda','worm,','viper','snake','python','boa'])\n",
    "print(len(sar))"
   ]
  },
  {
   "cell_type": "code",
   "execution_count": null,
   "metadata": {},
   "outputs": [],
   "source": [
    "print('snake' in sar)"
   ]
  },
  {
   "cell_type": "code",
   "execution_count": null,
   "metadata": {},
   "outputs": [],
   "source": [
    "# logical matching generates a boolean array:\n",
    "print(sar == 'python')"
   ]
  },
  {
   "cell_type": "markdown",
   "metadata": {},
   "source": [
    "### (c) *Tuple*\n",
    "Tuples are sequences, just like lists. The differences between tuples and lists are, the tuples cannot be changed unlike lists and tuples use parentheses, whereas lists use square brackets. In Python tuples are written with round brackets (`(` and `)`). An empty tuple is created by: ()."
   ]
  },
  {
   "cell_type": "code",
   "execution_count": null,
   "metadata": {},
   "outputs": [],
   "source": [
    "tu = matrix.shape\n",
    "print(type(tu))"
   ]
  },
  {
   "cell_type": "code",
   "execution_count": null,
   "metadata": {},
   "outputs": [],
   "source": [
    "tu2 = (1,2,3,4)\n",
    "print(tu2)"
   ]
  },
  {
   "cell_type": "code",
   "execution_count": null,
   "metadata": {},
   "outputs": [],
   "source": [
    "tu3 = 'anaconda','worm','viper','snake','python','boa'\n",
    "print(tu3)"
   ]
  },
  {
   "cell_type": "code",
   "execution_count": null,
   "metadata": {},
   "outputs": [],
   "source": [
    "print(tu3[3])"
   ]
  },
  {
   "cell_type": "code",
   "execution_count": null,
   "metadata": {},
   "outputs": [],
   "source": [
    "tu3[3] = 'serpent'"
   ]
  },
  {
   "cell_type": "code",
   "execution_count": null,
   "metadata": {},
   "outputs": [],
   "source": [
    "# unpacking of a tuple:\n",
    "a,b,c,d = tu2"
   ]
  },
  {
   "cell_type": "markdown",
   "metadata": {},
   "source": [
    "but what if one want's only the first element from the tuple as a separate object?"
   ]
  },
  {
   "cell_type": "code",
   "execution_count": null,
   "metadata": {},
   "outputs": [],
   "source": [
    "a,*rest = tu2\n",
    "print(a)\n",
    "print(rest)"
   ]
  },
  {
   "cell_type": "markdown",
   "metadata": {},
   "source": [
    "### (d) *Dictionary*\n",
    "Dictionaries are handy data structures that combine key-value pairs. Each key is separated from its value by a colon (`:`), the items are separated by commas, and the whole thing is enclosed in curly braces (`{` and `}`). An empty dictionary without any items is written with just two curly braces, like this: {}. Dictionary keys can be accessed with `.keys()` method, while the values can be accessed with the `.values()` method. As lists, dictionaries can be nested."
   ]
  },
  {
   "cell_type": "code",
   "execution_count": null,
   "metadata": {},
   "outputs": [],
   "source": [
    "# create a dictionary:\n",
    "mydict = {'name':'Anne','pet':'cat','age':25}"
   ]
  },
  {
   "cell_type": "code",
   "execution_count": null,
   "metadata": {},
   "outputs": [],
   "source": [
    "# get keys:\n",
    "print(mydict.keys())"
   ]
  },
  {
   "cell_type": "code",
   "execution_count": null,
   "metadata": {},
   "outputs": [],
   "source": [
    "# get values:\n",
    "print(mydict.values())"
   ]
  },
  {
   "cell_type": "code",
   "execution_count": null,
   "metadata": {},
   "outputs": [],
   "source": [
    "# add new data:\n",
    "mydict['job'] = 'manager'\n",
    "print(mydict)"
   ]
  },
  {
   "cell_type": "code",
   "execution_count": null,
   "metadata": {},
   "outputs": [],
   "source": [
    "# remove data:\n",
    "del(mydict['job'])\n",
    "print(mydict)"
   ]
  },
  {
   "cell_type": "markdown",
   "metadata": {},
   "source": [
    "### (e) *DataFrame*\n",
    "A DataFrame is a two-dimensional array with heterogeneous data. For this a powerful library is available in Python, called `pandas`. By convention, pandas is usually imported as `import pandas as pd`. In practice, one usually encounters a dataframe when reading data into Python via the `pd.read_csv()` function."
   ]
  },
  {
   "cell_type": "code",
   "execution_count": null,
   "metadata": {},
   "outputs": [],
   "source": [
    "# import pandas\n",
    "import pandas as pd\n",
    "\n",
    "# read .csv file to dataframe:\n",
    "df = pd.read_csv('Datasets/iris.csv')"
   ]
  },
  {
   "cell_type": "code",
   "execution_count": null,
   "metadata": {},
   "outputs": [],
   "source": [
    "# inspect the dataframe shape:\n",
    "print(df.shape)"
   ]
  },
  {
   "cell_type": "code",
   "execution_count": null,
   "metadata": {},
   "outputs": [],
   "source": [
    "# print the dataframe head:\n",
    "df.head()"
   ]
  },
  {
   "cell_type": "code",
   "execution_count": null,
   "metadata": {},
   "outputs": [],
   "source": [
    "# quary variable types:\n",
    "print(df.dtypes)"
   ]
  },
  {
   "cell_type": "code",
   "execution_count": null,
   "metadata": {},
   "outputs": [],
   "source": [
    "# descriptive statistics for numeric variables:\n",
    "df.describe()"
   ]
  },
  {
   "cell_type": "code",
   "execution_count": null,
   "metadata": {},
   "outputs": [],
   "source": [
    "# access the dataframe row index:\n",
    "print(df.index)"
   ]
  },
  {
   "cell_type": "code",
   "execution_count": null,
   "metadata": {},
   "outputs": [],
   "source": [
    "# access the dataframe column index (variable names):\n",
    "print(df.columns)"
   ]
  },
  {
   "cell_type": "code",
   "execution_count": null,
   "metadata": {},
   "outputs": [],
   "source": [
    "# get usefull information about the data.frame:\n",
    "df.info()"
   ]
  },
  {
   "cell_type": "markdown",
   "metadata": {},
   "source": [
    "***\n",
    "## (3) Indexing\n",
    "\n",
    "### (a) *Indexing a list*\n",
    "One can access the content of a **list** using square brackets and specifying the desired index location. Alternatively, one can also use logical expressions to filter the content of a list. Note that indexing take place on open range, such that the last index is not contained in the range."
   ]
  },
  {
   "cell_type": "code",
   "execution_count": null,
   "metadata": {},
   "outputs": [],
   "source": [
    "# access the first entry (at index location 0!) of x:\n",
    "print(x[0])\n",
    "# access the last entry of x:\n",
    "print(x[-1])\n",
    "print(x)"
   ]
  },
  {
   "cell_type": "code",
   "execution_count": null,
   "metadata": {},
   "outputs": [],
   "source": [
    "# selecting a range:\n",
    "print(x[2:]) # from 3rd to last\n",
    "print(x[:2]) # from 1st to 2nd"
   ]
  },
  {
   "cell_type": "code",
   "execution_count": null,
   "metadata": {},
   "outputs": [],
   "source": [
    "# access the second list within y:\n",
    "print(y[1])"
   ]
  },
  {
   "cell_type": "code",
   "execution_count": null,
   "metadata": {},
   "outputs": [],
   "source": [
    "# hierarchical indexing:\n",
    "print(y[0][1:])"
   ]
  },
  {
   "cell_type": "code",
   "execution_count": null,
   "metadata": {},
   "outputs": [],
   "source": [
    "# index a string:\n",
    "print(opinion[0:6])"
   ]
  },
  {
   "cell_type": "code",
   "execution_count": null,
   "metadata": {},
   "outputs": [],
   "source": [
    "# use list comprehension to get only the numeric values in list:\n",
    "print([i for i in x if isinstance(i,(int,float))])\n",
    "print([i for i in x if isinstance(i,(str))])"
   ]
  },
  {
   "cell_type": "markdown",
   "metadata": {},
   "source": [
    "### (b) *Indexing an array*\n",
    "Arrays are indexed in a similar way to lists, using square brackets."
   ]
  },
  {
   "cell_type": "code",
   "execution_count": null,
   "metadata": {},
   "outputs": [],
   "source": [
    "# indexing with location:\n",
    "print(nar[:3])"
   ]
  },
  {
   "cell_type": "code",
   "execution_count": null,
   "metadata": {},
   "outputs": [],
   "source": [
    "# indexing using a boolean:\n",
    "print(nar[nar<3])\n",
    "#print(nar<3)"
   ]
  },
  {
   "cell_type": "markdown",
   "metadata": {},
   "source": [
    "### (c) *Indexing a dictionary*\n",
    "Dictionaries are indexed first by **key**, then by index location."
   ]
  },
  {
   "cell_type": "code",
   "execution_count": null,
   "metadata": {},
   "outputs": [],
   "source": [
    "# example:\n",
    "mydict = {'name':['Anne','Mike'],'pet':['cat','python'],'age':[25,37]}\n",
    "print(mydict['pet'][1])"
   ]
  },
  {
   "cell_type": "markdown",
   "metadata": {},
   "source": [
    "### (d) *Indexing a DataFrame*\n",
    "Dataframe indexing is somewhat more complicated than for other data structures. Indexing a dataframe using a numeric index returns a slice of rows, while using variable names as index returns a slice of columns. If one needs to index across several dimensions, indexers `.loc` or `.iloc` need to be used, depending on whether the index uses values in the dataframe index or not, respectively."
   ]
  },
  {
   "cell_type": "code",
   "execution_count": null,
   "metadata": {},
   "outputs": [],
   "source": [
    "# row slice:\n",
    "df[:3]"
   ]
  },
  {
   "cell_type": "code",
   "execution_count": null,
   "metadata": {},
   "outputs": [],
   "source": [
    "# column slice:\n",
    "df[['species','sepal_length']].head()"
   ]
  },
  {
   "cell_type": "code",
   "execution_count": null,
   "metadata": {},
   "outputs": [],
   "source": [
    "# filtering:\n",
    "df.loc[df.species=='setosa'].head()"
   ]
  },
  {
   "cell_type": "code",
   "execution_count": null,
   "metadata": {},
   "outputs": [],
   "source": [
    "# 2D slicing:\n",
    "df.iloc[:3,[0,3]]"
   ]
  },
  {
   "cell_type": "code",
   "execution_count": null,
   "metadata": {},
   "outputs": [],
   "source": [
    "# more advanced filtering (note the use of function np.logical_and()):\n",
    "df.loc[\n",
    "    np.logical_and(\n",
    "        df.species=='versicolor',\n",
    "        df.sepal_length<5.5\n",
    "    )\n",
    "]"
   ]
  }
 ],
 "metadata": {
  "kernelspec": {
   "display_name": "Python 3",
   "language": "python",
   "name": "python3"
  },
  "language_info": {
   "codemirror_mode": {
    "name": "ipython",
    "version": 3
   },
   "file_extension": ".py",
   "mimetype": "text/x-python",
   "name": "python",
   "nbconvert_exporter": "python",
   "pygments_lexer": "ipython3",
   "version": "3.7.3"
  },
  "toc": {
   "base_numbering": 1,
   "nav_menu": {},
   "number_sections": false,
   "sideBar": true,
   "skip_h1_title": false,
   "title_cell": "Table of Contents",
   "title_sidebar": "Contents",
   "toc_cell": false,
   "toc_position": {
    "height": "calc(100% - 180px)",
    "left": "10px",
    "top": "150px",
    "width": "261.818px"
   },
   "toc_section_display": true,
   "toc_window_display": true
  }
 },
 "nbformat": 4,
 "nbformat_minor": 2
}
