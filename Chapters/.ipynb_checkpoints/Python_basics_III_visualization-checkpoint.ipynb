{
 "cells": [
  {
   "cell_type": "markdown",
   "metadata": {},
   "source": [
    "<img src=\"py-logo.png\" width=\"100pt\"/>"
   ]
  },
  {
   "cell_type": "markdown",
   "metadata": {},
   "source": [
    "\n",
    "# INTRODUCTION TO PYTHON \n",
    "# III — VISUALISATION\n",
    "*Lasse Ruokolainen*\n",
    "\n",
    "*Seasoned Data Master, BILOT Consulting Oy* \n",
    "\n",
    "***"
   ]
  },
  {
   "cell_type": "markdown",
   "metadata": {},
   "source": [
    "## (1) Pandas plotting\n",
    "Pandas dataframes have inbuilt methods for easy data visualisation.\n",
    "\n",
    "### (a) *Simple plots*\n",
    "You can simply draw a plot from a dataframe by using the `.plot()` method (see `help(df.plot)`). "
   ]
  },
  {
   "cell_type": "code",
   "execution_count": null,
   "metadata": {},
   "outputs": [],
   "source": [
    "import pandas as pd\n",
    "\n",
    "# read in example data from URL repository:\n",
    "url = 'https://gist.githubusercontent.com/curran/a08a1080b88344b0c8a7/raw/d546eaee765268bf2f487608c537c05e22e4b221/iris.csv'\n",
    "df = pd.read_csv(url)\n",
    "df.head()"
   ]
  },
  {
   "cell_type": "code",
   "execution_count": null,
   "metadata": {},
   "outputs": [],
   "source": [
    "import matplotlib.pyplot as plt\n",
    "\n",
    "# plot numeric variables automatically:\n",
    "df.plot(subplots=False)\n",
    "plt.show()"
   ]
  },
  {
   "cell_type": "markdown",
   "metadata": {},
   "source": [
    "This is quite handy, all variables are plotted and a legend is added without the need to make any specifications. The different variables can be set to appear in separate subplots, by giving an input argument `subplots=True` to the `.plot()` method.\n",
    "\n",
    "In the same manner, one can conveniently plot the frequency distribution of all numeric variables at once, by using `pandas` plotting. In this case the method to use is `.hist()`."
   ]
  },
  {
   "cell_type": "code",
   "execution_count": null,
   "metadata": {},
   "outputs": [],
   "source": [
    "# plot the distribution of numeric variables automatically:\n",
    "df.hist()\n",
    "plt.show()"
   ]
  },
  {
   "cell_type": "markdown",
   "metadata": {},
   "source": [
    "OK, this is good, but what about the different species? They probably have different distributions for each variable."
   ]
  },
  {
   "cell_type": "markdown",
   "metadata": {},
   "source": [
    "### (c) *More advanced plots*\n",
    "Next you will learn to make more complicated plots, still using `pylot` from `matplotlib` together with `pandas`. Let's start by drawing a separate histogram for each species in the `iris` data:"
   ]
  },
  {
   "cell_type": "code",
   "execution_count": null,
   "metadata": {},
   "outputs": [],
   "source": [
    "# plot distribution for each species separately:\n",
    "ax = df[['petal_length','species']].hist(\n",
    "    by='species',\n",
    "    layout=(1,3),\n",
    "    figsize=(8,2),\n",
    "    xrot=30,\n",
    "    color='pink',\n",
    "    edgecolor='k'\n",
    ")\n",
    "ax[1].set_xlabel(\"Petal length (cm)\")\n",
    "ax[0].set_ylabel(\"Frequency\")\n",
    "for i in range(0,3):\n",
    "    ax[i].set_xlim([1,7])\n",
    "plt.show()"
   ]
  },
  {
   "cell_type": "markdown",
   "metadata": {},
   "source": [
    "In the above example, several arguments were passed to method `.hist()`, one specifying grouping (`by`), another giving the layout of the panels (`layout`; 1 row and 3 columns), the third one adjusting figure size (`figsize`; width and height), the fourth one setting a 30° rotation to x-axis tick labels (`xrot`), and the fifth argument (`color`) specifies the colour (see https://matplotlib.org/2.0.0/examples/color/named_colors.html). \n",
    "\n",
    "Finally, the bars are set to have black edges (`edgecolor = 'k'`). In addition, the output of the plotting command was stored to an object `ax`, which is later used to modify individual subplots. \n",
    "\n",
    "Another option is to use boxplots to illustrate variable distributions:"
   ]
  },
  {
   "cell_type": "code",
   "execution_count": null,
   "metadata": {},
   "outputs": [],
   "source": [
    "df.boxplot(column='petal_length',\n",
    "           by='species',grid=False,\n",
    "           figsize=(3,4))\n",
    "plt.title('')\n",
    "plt.xlabel('')\n",
    "plt.ylabel('Petal length (cm)')\n",
    "plt.show()"
   ]
  },
  {
   "cell_type": "markdown",
   "metadata": {},
   "source": [
    "Next let's try to make a scatterplot, with points coloured by species."
   ]
  },
  {
   "cell_type": "code",
   "execution_count": null,
   "metadata": {},
   "outputs": [],
   "source": [
    "# make a dictionary associating a color to each species:\n",
    "cols = {'setosa':'olivedrab','versicolor':'slateblue','virginica':'tomato'}\n",
    "# use .map() to map colors to species:\n",
    "df['color'] = df['species'].map(cols)\n",
    "\n",
    "# plot scatterplot with specified colours:\n",
    "df.plot(kind='scatter',\n",
    "        x='sepal_length',\n",
    "        y='petal_width',\n",
    "        c=df.color,\n",
    "        figsize=(4,4),s=30)\n",
    "plt.title('')\n",
    "plt.xlabel(\"Sepal length (cm)\")\n",
    "plt.ylabel(\"Petal width (cm)\")\n",
    "plt.show()"
   ]
  },
  {
   "cell_type": "markdown",
   "metadata": {},
   "source": [
    "Next we'll use another plotting library for making figures."
   ]
  },
  {
   "cell_type": "markdown",
   "metadata": {},
   "source": [
    "## (2) Seaborn plotting\n",
    "Seaborn is a Python library that is primarily meant for statistical plotting (see https://seaborn.pydata.org/index.html).\n",
    "\n",
    "### (a) *Scatter plots*\n",
    "Let's start by making the same plot as above, but this time using `seaborn`."
   ]
  },
  {
   "cell_type": "code",
   "execution_count": null,
   "metadata": {},
   "outputs": [],
   "source": [
    "# import library:\n",
    "import seaborn as sns"
   ]
  },
  {
   "cell_type": "code",
   "execution_count": null,
   "metadata": {},
   "outputs": [],
   "source": [
    "# get data:\n",
    "iris = sns.load_dataset(\"iris\")\n",
    "\n",
    "h = sns.swarmplot(\n",
    "    x='sepal_length',\n",
    "    y='petal_width',\n",
    "    hue='species',\n",
    "    data=iris,palette='husl',\n",
    "    edgecolor='gray',\n",
    "    linewidth=1,size=10)\n",
    "plt.setp(h,xticks=range(-1,40,6))\n",
    "plt.show()"
   ]
  },
  {
   "cell_type": "markdown",
   "metadata": {},
   "source": [
    "### (b) *Distributions*\n",
    "When examining pattern in the data, it is often usefull to somehow illustrate how different variables are distributed, either alone ar in relation to other variables. Above we used boxplots and histograms in `pandas` and these also available in `seaborn`. To make something different, let's look at *violin plots* here."
   ]
  },
  {
   "cell_type": "code",
   "execution_count": null,
   "metadata": {},
   "outputs": [],
   "source": [
    "# draw a violin plot of a numerical variable, per a grouping variable:\n",
    "sns.violinplot(x='species',y='petal_width',data=iris,palette='Set2')\n",
    "plt.xlabel('')\n",
    "plt.ylabel('Petal width (mm)')\n",
    "plt.show()"
   ]
  },
  {
   "cell_type": "code",
   "execution_count": null,
   "metadata": {},
   "outputs": [],
   "source": [
    "# melt dataframe to tidy format:\n",
    "df_melt = df.melt(id_vars=['species','color'],\n",
    "                  value_name='measure')\n",
    "\n",
    "df_melt.tail()"
   ]
  },
  {
   "cell_type": "code",
   "execution_count": null,
   "metadata": {},
   "outputs": [],
   "source": [
    "# plot a violinplot of each variable in the melted dataframe: \n",
    "sns.catplot(x='variable',y='measure',hue='species',height=5,\n",
    "                   data=df_melt, kind=\"violin\",palette='Set2')\n",
    "plt.show()"
   ]
  },
  {
   "cell_type": "markdown",
   "metadata": {},
   "source": [
    "Next, let's see some cool advanced features we can use in `seaborn`."
   ]
  },
  {
   "cell_type": "code",
   "execution_count": null,
   "metadata": {},
   "outputs": [],
   "source": [
    "# color violins asymmetrically:\n",
    "\n",
    "# get data:\n",
    "tips = sns.load_dataset(\"tips\")\n",
    "tips.head()"
   ]
  },
  {
   "cell_type": "code",
   "execution_count": null,
   "metadata": {},
   "outputs": [],
   "source": [
    "sns.violinplot(data=tips,x='day',y='tip',\n",
    "               hue='sex',split=True,\n",
    "               palette=['skyblue','pink'])\n",
    "plt.show()"
   ]
  },
  {
   "cell_type": "markdown",
   "metadata": {},
   "source": [
    "In this case, the box inside the violin is for the entire data (within each day), whereas the violin is asymmetric depending on the gender of the service person."
   ]
  },
  {
   "cell_type": "markdown",
   "metadata": {},
   "source": [
    "### (c) *DataFrame plot*\n",
    "If a dataframe does not contain too many (numeric) variables, a nice way of visualising both their relationshis and distributions is to plot the entire dataframe. This can be done using `.pairplot()` in `seaborn`."
   ]
  },
  {
   "cell_type": "code",
   "execution_count": null,
   "metadata": {},
   "outputs": [],
   "source": [
    "sns.pairplot(tips, hue=\"sex\",palette='Set1')\n",
    "plt.show()"
   ]
  },
  {
   "cell_type": "markdown",
   "metadata": {},
   "source": [
    "### (d) *Regression plot*\n",
    "If one wishes to visualise regression between variables, there is a convenient function in `seaborn` for that; `lmplot()`."
   ]
  },
  {
   "cell_type": "code",
   "execution_count": null,
   "metadata": {},
   "outputs": [],
   "source": [
    "# make separate fits by category:\n",
    "sns.lmplot(x='total_bill',y='tip',data=tips,\n",
    "           hue='smoker',truncate=False,palette='Set1')\n",
    "plt.show()"
   ]
  },
  {
   "cell_type": "code",
   "execution_count": null,
   "metadata": {},
   "outputs": [],
   "source": [
    "# split to separate panels by a category:\n",
    "sns.lmplot(x='total_bill',y='tip',data=tips,\n",
    "           col='sex',hue='smoker',\n",
    "           truncate=True,palette='Set1',\n",
    "           lowess=False,col_wrap=3)\n",
    "plt.show()"
   ]
  },
  {
   "cell_type": "markdown",
   "metadata": {},
   "source": [
    "Another option to `lmplot` is to use `jointplot`. However, this fucntion does not allow for groups to be displayed."
   ]
  },
  {
   "cell_type": "code",
   "execution_count": null,
   "metadata": {},
   "outputs": [],
   "source": [
    "sns.jointplot(data=tips,x='total_bill',y='tip',kind='scatter',color='red')\n",
    "plt.show()"
   ]
  },
  {
   "cell_type": "code",
   "execution_count": null,
   "metadata": {},
   "outputs": [],
   "source": [
    "# Get more info from Docstring:\n",
    "sns.jointplot?"
   ]
  }
 ],
 "metadata": {
  "kernelspec": {
   "display_name": "MLtesting",
   "language": "python",
   "name": "mltesting"
  },
  "language_info": {
   "codemirror_mode": {
    "name": "ipython",
    "version": 3
   },
   "file_extension": ".py",
   "mimetype": "text/x-python",
   "name": "python",
   "nbconvert_exporter": "python",
   "pygments_lexer": "ipython3",
   "version": "3.6.8"
  },
  "toc": {
   "base_numbering": 1,
   "nav_menu": {},
   "number_sections": false,
   "sideBar": true,
   "skip_h1_title": false,
   "title_cell": "Table of Contents",
   "title_sidebar": "Contents",
   "toc_cell": false,
   "toc_position": {},
   "toc_section_display": true,
   "toc_window_display": true
  }
 },
 "nbformat": 4,
 "nbformat_minor": 2
}
