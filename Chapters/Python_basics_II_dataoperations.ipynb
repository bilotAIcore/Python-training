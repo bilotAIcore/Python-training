{
 "cells": [
  {
   "cell_type": "markdown",
   "metadata": {},
   "source": [
    "<img src=\"py-logo.png\" width=\"100pt\"/>"
   ]
  },
  {
   "cell_type": "markdown",
   "metadata": {},
   "source": [
    "# PYTHON FOR DATA SCIENCE \n",
    "# II – WORKING WITH DATA\n",
    "*Lasse Ruokolainen*\n",
    "\n",
    "*Seasoned Data Master, BILOT Consulting Oy* \n",
    "\n",
    "***\n",
    "\n",
    "## (1) Functions and methods\n",
    "Python has two ways of operating on data; **function**s and **method**s. Functions take data as input (and potentially additional arguments), whereas methods do a predefined operation *within* an object. Syntax: `function(input,*arguments)`, `object.method()`. Some objects also have **attribute**s, such as `shape` of arrays and dataframes, which work just like **method**s, except that no brackets are used.  \n",
    "\n",
    "### (a) *Functions*"
   ]
  },
  {
   "cell_type": "code",
   "execution_count": null,
   "metadata": {},
   "outputs": [],
   "source": [
    "from numpy.random import uniform as runif\n",
    "\n",
    "# generate example data, using a function:\n",
    "x = runif(size=10)\n",
    "print(x) "
   ]
  },
  {
   "cell_type": "code",
   "execution_count": null,
   "metadata": {},
   "outputs": [],
   "source": [
    "# Inbuilt function:\n",
    "print(max(x))\n",
    "print(min(x))\n",
    "print(sum(x))"
   ]
  },
  {
   "cell_type": "code",
   "execution_count": null,
   "metadata": {},
   "outputs": [],
   "source": [
    "# define a custom function:\n",
    "def my_mean(data):\n",
    "    \"\"\"\n",
    "    This function returns the mean value of \n",
    "    input numeric data, using inbuilt functions\n",
    "    sum() and len().\n",
    "    \"\"\"\n",
    "    return sum(data)/len(data)\n",
    "\n",
    "# use the function:\n",
    "print(my_mean(x))\n",
    "print('%.3f' %my_mean(x))\n",
    "\n",
    "import numpy as np\n",
    "print(np.mean(x))"
   ]
  },
  {
   "cell_type": "markdown",
   "metadata": {},
   "source": [
    "### (b) *Methods*"
   ]
  },
  {
   "cell_type": "code",
   "execution_count": null,
   "metadata": {},
   "outputs": [],
   "source": [
    "import pandas as pd\n",
    "\n",
    "# make x a pandas Series\n",
    "x2 = pd.Series(x)\n",
    "print(x2)"
   ]
  },
  {
   "cell_type": "code",
   "execution_count": null,
   "metadata": {},
   "outputs": [],
   "source": [
    "# use method for Series:\n",
    "print(x2.mean())\n",
    "print(x2.max())\n",
    "print(x2.prod())"
   ]
  },
  {
   "cell_type": "code",
   "execution_count": null,
   "metadata": {},
   "outputs": [],
   "source": [
    "# make a dataframe:\n",
    "df = pd.DataFrame({\n",
    "    'x' : x,\n",
    "    'x_squared' : x**2\n",
    "})\n",
    "\n",
    "# use methods on dataframe:\n",
    "print(df.mean(),'\\n')\n",
    "print(df.apply(my_mean))"
   ]
  },
  {
   "cell_type": "markdown",
   "metadata": {},
   "source": [
    "How does one then know whether one is dealing with a **function**, **method**, or **attribute**?\n",
    "Here the function `type()` comes handy:"
   ]
  },
  {
   "cell_type": "code",
   "execution_count": null,
   "metadata": {},
   "outputs": [],
   "source": [
    "print(type(df.shape))\n",
    "print(type(df.sum))\n",
    "print(type(df.index))\n",
    "print(type(sum))"
   ]
  },
  {
   "cell_type": "markdown",
   "metadata": {},
   "source": [
    "***\n",
    "## (2) Data operations and manipulations\n",
    "It is typical that at least 80% of time in a project go to data handling and monipulation. Thus, it might be a good idea to know that is done \n",
    "\n",
    "### (a) *Read and inspect data*\n",
    "In order to do something usefull in Python, one often needs to bring in data. If the data resides in a flat file, a convenient method is to use the `read_csv()` function in `Pandas`."
   ]
  },
  {
   "cell_type": "code",
   "execution_count": null,
   "metadata": {},
   "outputs": [],
   "source": [
    "# read in a data set:\n",
    "df = pd.read_csv('Datasets/tips.csv',index_col = 0)\n",
    "\n",
    "df.head() # note: use of .method()"
   ]
  },
  {
   "cell_type": "markdown",
   "metadata": {},
   "source": [
    "Now that we have the data, below we'll go through a couple of handy methods. "
   ]
  },
  {
   "cell_type": "code",
   "execution_count": null,
   "metadata": {},
   "outputs": [],
   "source": [
    "# query variable types:\n",
    "print(df.dtypes)"
   ]
  },
  {
   "cell_type": "code",
   "execution_count": null,
   "metadata": {},
   "outputs": [],
   "source": [
    "# change data type:\n",
    "df.sex = df.sex.astype('category')"
   ]
  },
  {
   "cell_type": "code",
   "execution_count": null,
   "metadata": {},
   "outputs": [],
   "source": [
    "# descriptive statistics:\n",
    "df.describe(include = 'all') # note: use of .method()"
   ]
  },
  {
   "cell_type": "code",
   "execution_count": null,
   "metadata": {},
   "outputs": [],
   "source": [
    "# tabulate the number of smokers: \n",
    "tab = df.pivot_table(\n",
    "    index = 'day',\n",
    "    columns = 'sex',\n",
    "    values = 'smoker',\n",
    "    aggfunc = 'count'\n",
    ")\n",
    "print(tab)\n",
    "\n",
    "# convert to proportions:\n",
    "print('\\n',tab.apply(lambda x: x/sum(x),axis='rows').round(2))"
   ]
  },
  {
   "cell_type": "markdown",
   "metadata": {},
   "source": [
    "### (b) *Data*\n",
    "What if you need to calculate new variables to the data or perform aggregations? "
   ]
  },
  {
   "cell_type": "code",
   "execution_count": null,
   "metadata": {},
   "outputs": [],
   "source": [
    "# calculate new variable:\n",
    "df['relative_tip'] = df.tip/df.total_bill\n",
    "print(df.relative_tip.mean().round(3))"
   ]
  },
  {
   "cell_type": "code",
   "execution_count": null,
   "metadata": {},
   "outputs": [],
   "source": [
    "import numpy as np\n",
    "# perform operation within categories by using groupby:\n",
    "df2 = df.groupby(['day','time','smoker']).apply(np.mean)"
   ]
  },
  {
   "cell_type": "code",
   "execution_count": null,
   "metadata": {},
   "outputs": [],
   "source": [
    "# index the groupped dataframe, notice the double index!\n",
    "df2.loc['Fri','size']\n",
    "df2"
   ]
  },
  {
   "cell_type": "markdown",
   "metadata": {},
   "source": [
    "### (c) *Missing values*\n"
   ]
  },
  {
   "cell_type": "code",
   "execution_count": null,
   "metadata": {},
   "outputs": [],
   "source": [
    "mpg = pd.read_csv('Datasets/mpg.csv',index_col=0)\n",
    "mpg.head()"
   ]
  },
  {
   "cell_type": "markdown",
   "metadata": {},
   "source": [
    "Another good method for data inspection is `.info()`, which shows you not only the data dimensions, variable types, but also the number of missing values:"
   ]
  },
  {
   "cell_type": "code",
   "execution_count": null,
   "metadata": {},
   "outputs": [],
   "source": [
    "mpg.info()"
   ]
  },
  {
   "cell_type": "markdown",
   "metadata": {},
   "source": [
    "OK, more precisely, you get the number of non-missing values. Still, we can easily calculate how many are missing:"
   ]
  },
  {
   "cell_type": "code",
   "execution_count": null,
   "metadata": {},
   "outputs": [],
   "source": [
    "mpg.isnull().sum()"
   ]
  },
  {
   "cell_type": "markdown",
   "metadata": {},
   "source": [
    "In order to work with such data with missing values, we need to either remove those rows with incomplete records, or fill the blanks with something."
   ]
  },
  {
   "cell_type": "code",
   "execution_count": null,
   "metadata": {},
   "outputs": [],
   "source": [
    "# drop missing values:\n",
    "mpg.dropna().info()"
   ]
  },
  {
   "cell_type": "markdown",
   "metadata": {},
   "source": [
    "Dropping the rows with missing data obviously leads to, in this case, 6 rows less. The above command needs to be stored to a new dataframe, or setting `inplace=True` in the `.dropna()` method."
   ]
  },
  {
   "cell_type": "code",
   "execution_count": null,
   "metadata": {},
   "outputs": [],
   "source": [
    "# fill na's with a value:\n",
    "mpg.fillna(0).info()"
   ]
  },
  {
   "cell_type": "markdown",
   "metadata": {},
   "source": [
    "Here the missing valyes are replaced with the value `0`. Again, the result needs to be stored to a new dataframe, or setting `inplace=True` in the `.dropna()` method."
   ]
  },
  {
   "cell_type": "code",
   "execution_count": null,
   "metadata": {},
   "outputs": [],
   "source": [
    "# fill na's with a value:\n",
    "mpg.fillna(mpg.mean()).describe().round()"
   ]
  },
  {
   "cell_type": "markdown",
   "metadata": {},
   "source": [
    "In this case the missing values are replaced by the averages by each variable. Isn't that clever?"
   ]
  }
 ],
 "metadata": {
  "kernelspec": {
   "display_name": "Python 3",
   "language": "python",
   "name": "python3"
  },
  "language_info": {
   "codemirror_mode": {
    "name": "ipython",
    "version": 3
   },
   "file_extension": ".py",
   "mimetype": "text/x-python",
   "name": "python",
   "nbconvert_exporter": "python",
   "pygments_lexer": "ipython3",
   "version": "3.7.3"
  },
  "toc": {
   "base_numbering": 1,
   "nav_menu": {},
   "number_sections": false,
   "sideBar": true,
   "skip_h1_title": false,
   "title_cell": "Table of Contents",
   "title_sidebar": "Contents",
   "toc_cell": false,
   "toc_position": {},
   "toc_section_display": true,
   "toc_window_display": true
  }
 },
 "nbformat": 4,
 "nbformat_minor": 2
}
